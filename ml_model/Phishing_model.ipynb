{
  "nbformat": 4,
  "nbformat_minor": 0,
  "metadata": {
    "colab": {
      "provenance": []
    },
    "kernelspec": {
      "name": "python3",
      "display_name": "Python 3"
    },
    "language_info": {
      "name": "python"
    }
  },
  "cells": [
    {
      "cell_type": "code",
      "source": [
        "pip install tld"
      ],
      "metadata": {
        "colab": {
          "base_uri": "https://localhost:8080/"
        },
        "id": "YDDrWmN_QC-z",
        "outputId": "e117f6b1-1f14-4d16-a92b-37d6645fbf66"
      },
      "execution_count": 53,
      "outputs": [
        {
          "output_type": "stream",
          "name": "stdout",
          "text": [
            "Requirement already satisfied: tld in /usr/local/lib/python3.11/dist-packages (0.13.1)\n"
          ]
        }
      ]
    },
    {
      "cell_type": "code",
      "source": [
        "import re\n",
        "import numpy as np\n",
        "import pandas as pd\n",
        "import seaborn as sns\n",
        "import matplotlib.pyplot as plt\n",
        "from urllib.parse import urlparse\n",
        "from sklearn.model_selection import train_test_split\n",
        "from sklearn.metrics import confusion_matrix, classification_report, accuracy_score\n",
        "from sklearn.ensemble import RandomForestClassifier\n",
        "from sklearn.neighbors import KNeighborsClassifier\n",
        "from sklearn.linear_model import SGDClassifier\n",
        "from sklearn.naive_bayes import GaussianNB\n",
        "from tld import get_tld, is_tld"
      ],
      "metadata": {
        "id": "Fyjk-RFSQMlV"
      },
      "execution_count": 54,
      "outputs": []
    },
    {
      "cell_type": "code",
      "execution_count": 55,
      "metadata": {
        "id": "qZl3-TRRJ0KV",
        "colab": {
          "base_uri": "https://localhost:8080/"
        },
        "outputId": "e1187794-7836-47f8-d835-1360742e8114"
      },
      "outputs": [
        {
          "output_type": "stream",
          "name": "stdout",
          "text": [
            "                                                 url        type\n",
            "0                                   br-icloud.com.br    phishing\n",
            "1                mp3raid.com/music/krizz_kaliko.html      benign\n",
            "2                    bopsecrets.org/rexroth/cr/1.htm      benign\n",
            "3  http://www.garage-pirenne.be/index.php?option=...  defacement\n",
            "4  http://adventure-nicaragua.net/index.php?optio...  defacement\n"
          ]
        }
      ],
      "source": [
        "import pandas as pd\n",
        "\n",
        "# Load CSV\n",
        "df = pd.read_csv(\"/content/malicious_phish.csv\")\n",
        "\n",
        "# Check the data\n",
        "print(df.head())"
      ]
    },
    {
      "cell_type": "code",
      "source": [
        "print(df.info)\n",
        "\n",
        "#checking for NaN values\n",
        "df.isnull().sum()\n",
        "print(\"count of data values:\")\n",
        "count = df.type.value_counts()\n",
        "print(count)"
      ],
      "metadata": {
        "colab": {
          "base_uri": "https://localhost:8080/"
        },
        "id": "QO9TeRnxQnY2",
        "outputId": "82b76dec-3e88-420a-dd6a-b344ec6edd2b"
      },
      "execution_count": 56,
      "outputs": [
        {
          "output_type": "stream",
          "name": "stdout",
          "text": [
            "<bound method DataFrame.info of                                                       url        type\n",
            "0                                        br-icloud.com.br    phishing\n",
            "1                     mp3raid.com/music/krizz_kaliko.html      benign\n",
            "2                         bopsecrets.org/rexroth/cr/1.htm      benign\n",
            "3       http://www.garage-pirenne.be/index.php?option=...  defacement\n",
            "4       http://adventure-nicaragua.net/index.php?optio...  defacement\n",
            "...                                                   ...         ...\n",
            "651186            xbox360.ign.com/objects/850/850402.html    phishing\n",
            "651187       games.teamxbox.com/xbox-360/1860/Dead-Space/    phishing\n",
            "651188         www.gamespot.com/xbox360/action/deadspace/    phishing\n",
            "651189      en.wikipedia.org/wiki/Dead_Space_(video_game)    phishing\n",
            "651190          www.angelfire.com/goth/devilmaycrytonite/    phishing\n",
            "\n",
            "[651191 rows x 2 columns]>\n",
            "count of data values:\n",
            "type\n",
            "benign        428103\n",
            "defacement     96457\n",
            "phishing       94111\n",
            "malware        32520\n",
            "Name: count, dtype: int64\n"
          ]
        }
      ]
    },
    {
      "cell_type": "code",
      "source": [
        "sns.barplot(x=count.index, y=count)\n",
        "plt.xlabel('Types')\n",
        "plt.ylabel('Count');"
      ],
      "metadata": {
        "colab": {
          "base_uri": "https://localhost:8080/",
          "height": 449
        },
        "id": "jApQZ3dzRC2P",
        "outputId": "f0249c6a-6df1-4314-f56a-ebdb664e739b"
      },
      "execution_count": 57,
      "outputs": [
        {
          "output_type": "display_data",
          "data": {
            "text/plain": [
              "<Figure size 640x480 with 1 Axes>"
            ],
            "image/png": "[encoded data removed]"
          },
          "metadata": {}
        }
      ]
    },
    {
      "cell_type": "markdown",
      "source": [
        "Have to omit www. from any url"
      ],
      "metadata": {
        "id": "6PrTjyM9RGwX"
      }
    },
    {
      "cell_type": "code",
      "source": [
        "df['url'] = df['url'].replace('www.', '', regex=True)\n",
        "print(df)"
      ],
      "metadata": {
        "colab": {
          "base_uri": "https://localhost:8080/"
        },
        "id": "_2kJAmfZRK9g",
        "outputId": "fdca5b12-50d7-4a0d-8e48-3149b42d95d9"
      },
      "execution_count": 58,
      "outputs": [
        {
          "output_type": "stream",
          "name": "stdout",
          "text": [
            "                                                      url        type\n",
            "0                                        br-icloud.com.br    phishing\n",
            "1                     mp3raid.com/music/krizz_kaliko.html      benign\n",
            "2                         bopsecrets.org/rexroth/cr/1.htm      benign\n",
            "3       http://garage-pirenne.be/index.php?option=com_...  defacement\n",
            "4       http://adventure-nicaragua.net/index.php?optio...  defacement\n",
            "...                                                   ...         ...\n",
            "651186            xbox360.ign.com/objects/850/850402.html    phishing\n",
            "651187       games.teamxbox.com/xbox-360/1860/Dead-Space/    phishing\n",
            "651188             gamespot.com/xbox360/action/deadspace/    phishing\n",
            "651189      en.wikipedia.org/wiki/Dead_Space_(video_game)    phishing\n",
            "651190              angelfire.com/goth/devilmaycrytonite/    phishing\n",
            "\n",
            "[651191 rows x 2 columns]\n"
          ]
        }
      ]
    },
    {
      "cell_type": "markdown",
      "source": [
        "We'll convert URLs into numeric features the model can use."
      ],
      "metadata": {
        "id": "JF-NA0zwPJc1"
      }
    },
    {
      "cell_type": "code",
      "source": [
        "rem = {\"Category\": {\"benign\": 0, \"defacement\": 1, \"phishing\":2, \"malware\":3}}\n",
        "df['Category'] = df['type']\n",
        "df = df.replace(rem)"
      ],
      "metadata": {
        "id": "ikftuWz8PCV-",
        "colab": {
          "base_uri": "https://localhost:8080/"
        },
        "outputId": "87954eb9-4aa1-4e41-fc2c-d0b6a927f5b7"
      },
      "execution_count": 73,
      "outputs": [
        {
          "output_type": "stream",
          "name": "stderr",
          "text": [
            "<ipython-input-73-11106f3a28eb>:3: FutureWarning: Downcasting behavior in `replace` is deprecated and will be removed in a future version. To retain the old behavior, explicitly call `result.infer_objects(copy=False)`. To opt-in to the future behavior, set `pd.set_option('future.no_silent_downcasting', True)`\n",
            "  df = df.replace(rem)\n"
          ]
        }
      ]
    },
    {
      "cell_type": "code",
      "source": [
        "df['url_len'] = df['url'].apply(lambda x: len(str(x)))\n",
        "\n",
        "def process_tld(url):\n",
        "    try:\n",
        "        res = get_tld(url, as_object = True, fail_silently=False,fix_protocol=True)\n",
        "        pri_domain= res.parsed_url.netloc\n",
        "    except :\n",
        "        pri_domain= None\n",
        "    return pri_domain\n",
        "\n",
        "df['domain'] = df['url'].apply(lambda i: process_tld(i))\n",
        "print(df.head())"
      ],
      "metadata": {
        "colab": {
          "base_uri": "https://localhost:8080/"
        },
        "id": "k0or0LtiUM2A",
        "outputId": "8f3cb19b-1b1a-4871-8421-d4f340f7e8cb"
      },
      "execution_count": 59,
      "outputs": [
        {
          "output_type": "stream",
          "name": "stdout",
          "text": [
            "                                                 url        type  url_len  \\\n",
            "0                                   br-icloud.com.br    phishing       16   \n",
            "1                mp3raid.com/music/krizz_kaliko.html      benign       35   \n",
            "2                    bopsecrets.org/rexroth/cr/1.htm      benign       31   \n",
            "3  http://garage-pirenne.be/index.php?option=com_...  defacement       84   \n",
            "4  http://adventure-nicaragua.net/index.php?optio...  defacement      235   \n",
            "\n",
            "                    domain  \n",
            "0         br-icloud.com.br  \n",
            "1              mp3raid.com  \n",
            "2           bopsecrets.org  \n",
            "3        garage-pirenne.be  \n",
            "4  adventure-nicaragua.net  \n"
          ]
        }
      ]
    },
    {
      "cell_type": "code",
      "source": [
        "feature = ['@','?','-','=','.','#','%','+','$','!','*',',','//']\n",
        "for a in feature:\n",
        "    df[a] = df['url'].apply(lambda i: i.count(a))"
      ],
      "metadata": {
        "id": "N_nC9pSJUqdw"
      },
      "execution_count": 60,
      "outputs": []
    },
    {
      "cell_type": "code",
      "source": [
        "print(df.head())"
      ],
      "metadata": {
        "colab": {
          "base_uri": "https://localhost:8080/"
        },
        "id": "p2vL4-7VUymZ",
        "outputId": "e82c1388-a3ba-48dc-8b4a-f6a4dcd2c9b6"
      },
      "execution_count": 61,
      "outputs": [
        {
          "output_type": "stream",
          "name": "stdout",
          "text": [
            "                                                 url        type  url_len  \\\n",
            "0                                   br-icloud.com.br    phishing       16   \n",
            "1                mp3raid.com/music/krizz_kaliko.html      benign       35   \n",
            "2                    bopsecrets.org/rexroth/cr/1.htm      benign       31   \n",
            "3  http://garage-pirenne.be/index.php?option=com_...  defacement       84   \n",
            "4  http://adventure-nicaragua.net/index.php?optio...  defacement      235   \n",
            "\n",
            "                    domain  @  ?  -  =  .  #  %  +  $  !  *  ,  //  \n",
            "0         br-icloud.com.br  0  0  1  0  2  0  0  0  0  0  0  0   0  \n",
            "1              mp3raid.com  0  0  0  0  2  0  0  0  0  0  0  0   0  \n",
            "2           bopsecrets.org  0  0  0  0  2  0  0  0  0  0  0  0   0  \n",
            "3        garage-pirenne.be  0  1  1  4  2  0  0  0  0  0  0  0   1  \n",
            "4  adventure-nicaragua.net  0  1  1  3  2  0  0  0  0  0  0  0   1  \n"
          ]
        }
      ]
    },
    {
      "cell_type": "code",
      "source": [
        "def abnormal_url(url):\n",
        "    hostname = urlparse(url).hostname\n",
        "    hostname = str(hostname)\n",
        "    match = re.search(hostname, url)\n",
        "    if match:\n",
        "        # print match.group()\n",
        "        return 1\n",
        "    else:\n",
        "        # print 'No matching pattern found'\n",
        "        return 0\n",
        "\n",
        "df['abnormal_url'] = df['url'].apply(lambda i: abnormal_url(i))\n",
        "sns.countplot(x='abnormal_url', data=df);"
      ],
      "metadata": {
        "id": "J0TVdVIgPCa6",
        "colab": {
          "base_uri": "https://localhost:8080/",
          "height": 450
        },
        "outputId": "ca9e35f1-262d-4501-8895-a864843fe4c2"
      },
      "execution_count": 62,
      "outputs": [
        {
          "output_type": "display_data",
          "data": {
            "text/plain": [
              "<Figure size 640x480 with 1 Axes>"
            ],
            "image/png": "[encoded data removed]"
          },
          "metadata": {}
        }
      ]
    },
    {
      "cell_type": "code",
      "source": [
        "def httpSecure(url):\n",
        "    htp = urlparse(url).scheme\n",
        "    match = str(htp)\n",
        "    if match=='https':\n",
        "        # print match.group()\n",
        "        return 1\n",
        "    else:\n",
        "        # print 'No matching pattern found'\n",
        "        return 0\n",
        "\n",
        "df['https'] = df['url'].apply(lambda i: httpSecure(i))\n",
        "sns.countplot(x='https', data=df);"
      ],
      "metadata": {
        "colab": {
          "base_uri": "https://localhost:8080/",
          "height": 449
        },
        "id": "8PHYlHdvVGKY",
        "outputId": "e8235ccc-dd78-4d46-d695-f33f0c24b962"
      },
      "execution_count": 63,
      "outputs": [
        {
          "output_type": "display_data",
          "data": {
            "text/plain": [
              "<Figure size 640x480 with 1 Axes>"
            ],
            "image/png": "[encoded data removed]"
          },
          "metadata": {}
        }
      ]
    },
    {
      "cell_type": "code",
      "source": [
        "#count no.of digit characters\n",
        "\n",
        "def digit_count(url):\n",
        "    digits = 0\n",
        "    for i in url:\n",
        "        if i.isnumeric():\n",
        "            digits = digits + 1\n",
        "    return digits\n",
        "\n",
        "df['digits']= df['url'].apply(lambda i: digit_count(i))\n",
        "\n",
        "#count no.of letter characters\n",
        "\n",
        "def letter_count(url):\n",
        "    letters = 0\n",
        "    for i in url:\n",
        "        if i.isalpha():\n",
        "            letters = letters + 1\n",
        "    return letters\n",
        "\n",
        "df['letters']= df['url'].apply(lambda i: letter_count(i))"
      ],
      "metadata": {
        "id": "-Ri7lk0sVPzF"
      },
      "execution_count": 64,
      "outputs": []
    },
    {
      "cell_type": "markdown",
      "source": [
        "Check if URL has shorting service applied"
      ],
      "metadata": {
        "id": "Sc7-eTB7V7HC"
      }
    },
    {
      "cell_type": "code",
      "source": [
        "def Shortining_Service(url):\n",
        "    match = re.search('bit\\.ly|goo\\.gl|shorte\\.st|go2l\\.ink|x\\.co|ow\\.ly|t\\.co|tinyurl|tr\\.im|is\\.gd|cli\\.gs|'\n",
        "                      'yfrog\\.com|migre\\.me|ff\\.im|tiny\\.cc|url4\\.eu|twit\\.ac|su\\.pr|twurl\\.nl|snipurl\\.com|'\n",
        "                      'short\\.to|BudURL\\.com|ping\\.fm|post\\.ly|Just\\.as|bkite\\.com|snipr\\.com|fic\\.kr|loopt\\.us|'\n",
        "                      'doiop\\.com|short\\.ie|kl\\.am|wp\\.me|rubyurl\\.com|om\\.ly|to\\.ly|bit\\.do|t\\.co|lnkd\\.in|'\n",
        "                      'db\\.tt|qr\\.ae|adf\\.ly|goo\\.gl|bitly\\.com|cur\\.lv|tinyurl\\.com|ow\\.ly|bit\\.ly|ity\\.im|'\n",
        "                      'q\\.gs|is\\.gd|po\\.st|bc\\.vc|twitthis\\.com|u\\.to|j\\.mp|buzurl\\.com|cutt\\.us|u\\.bb|yourls\\.org|'\n",
        "                      'x\\.co|prettylinkpro\\.com|scrnch\\.me|filoops\\.info|vzturl\\.com|qr\\.net|1url\\.com|tweez\\.me|v\\.gd|'\n",
        "                      'tr\\.im|link\\.zip\\.net',\n",
        "                      url)\n",
        "    if match:\n",
        "        return 1\n",
        "    else:\n",
        "        return 0\n",
        "\n",
        "df['Shortining_Service'] = df['url'].apply(lambda x: Shortining_Service(x))\n",
        "sns.countplot(x='Shortining_Service', data=df);\n"
      ],
      "metadata": {
        "colab": {
          "base_uri": "https://localhost:8080/",
          "height": 450
        },
        "id": "wokpWOmvV6n0",
        "outputId": "fd98802d-a5e0-4787-ed53-a91de591f69a"
      },
      "execution_count": 65,
      "outputs": [
        {
          "output_type": "display_data",
          "data": {
            "text/plain": [
              "<Figure size 640x480 with 1 Axes>"
            ],
            "image/png": "[encoded data removed]"
          },
          "metadata": {}
        }
      ]
    },
    {
      "cell_type": "code",
      "source": [
        "def having_ip_address(url):\n",
        "    match = re.search(\n",
        "        '(([01]?\\\\d\\\\d?|2[0-4]\\\\d|25[0-5])\\\\.([01]?\\\\d\\\\d?|2[0-4]\\\\d|25[0-5])\\\\.([01]?\\\\d\\\\d?|2[0-4]\\\\d|25[0-5])\\\\.'\n",
        "        '([01]?\\\\d\\\\d?|2[0-4]\\\\d|25[0-5])\\\\/)|'  # IPv4\n",
        "        '(([01]?\\\\d\\\\d?|2[0-4]\\\\d|25[0-5])\\\\.([01]?\\\\d\\\\d?|2[0-4]\\\\d|25[0-5])\\\\.([01]?\\\\d\\\\d?|2[0-4]\\\\d|25[0-5])\\\\.'\n",
        "        '([01]?\\\\d\\\\d?|2[0-4]\\\\d|25[0-5])\\\\/)|'  # IPv4 with port\n",
        "        '((0x[0-9a-fA-F]{1,2})\\\\.(0x[0-9a-fA-F]{1,2})\\\\.(0x[0-9a-fA-F]{1,2})\\\\.(0x[0-9a-fA-F]{1,2})\\\\/)' # IPv4 in hexadecimal\n",
        "        '(?:[a-fA-F0-9]{1,4}:){7}[a-fA-F0-9]{1,4}|'\n",
        "        '([0-9]+(?:\\.[0-9]+){3}:[0-9]+)|'\n",
        "        '((?:(?:\\d|[01]?\\d\\d|2[0-4]\\d|25[0-5])\\.){3}(?:25[0-5]|2[0-4]\\d|[01]?\\d\\d|\\d)(?:\\/\\d{1,2})?)', url)  # Ipv6\n",
        "    if match:\n",
        "        return 1\n",
        "    else:\n",
        "        return 0\n",
        "\n",
        "df['having_ip_address'] = df['url'].apply(lambda i: having_ip_address(i))\n",
        "df['having_ip_address'].value_counts()"
      ],
      "metadata": {
        "colab": {
          "base_uri": "https://localhost:8080/",
          "height": 178
        },
        "id": "QYSk_NrpWKwO",
        "outputId": "e13066bc-cc49-4d57-fbd9-28fd7fc6d7bb"
      },
      "execution_count": 66,
      "outputs": [
        {
          "output_type": "execute_result",
          "data": {
            "text/plain": [
              "having_ip_address\n",
              "0    638703\n",
              "1     12488\n",
              "Name: count, dtype: int64"
            ],
            "text/html": [
              "<div>\n",
              "<style scoped>\n",
              "    .dataframe tbody tr th:only-of-type {\n",
              "        vertical-align: middle;\n",
              "    }\n",
              "\n",
              "    .dataframe tbody tr th {\n",
              "        vertical-align: top;\n",
              "    }\n",
              "\n",
              "    .dataframe thead th {\n",
              "        text-align: right;\n",
              "    }\n",
              "</style>\n",
              "<table border=\"1\" class=\"dataframe\">\n",
              "  <thead>\n",
              "    <tr style=\"text-align: right;\">\n",
              "      <th></th>\n",
              "      <th>count</th>\n",
              "    </tr>\n",
              "    <tr>\n",
              "      <th>having_ip_address</th>\n",
              "      <th></th>\n",
              "    </tr>\n",
              "  </thead>\n",
              "  <tbody>\n",
              "    <tr>\n",
              "      <th>0</th>\n",
              "      <td>638703</td>\n",
              "    </tr>\n",
              "    <tr>\n",
              "      <th>1</th>\n",
              "      <td>12488</td>\n",
              "    </tr>\n",
              "  </tbody>\n",
              "</table>\n",
              "</div><br><label><b>dtype:</b> int64</label>"
            ]
          },
          "metadata": {},
          "execution_count": 66
        }
      ]
    },
    {
      "cell_type": "code",
      "source": [
        "features_df = df.drop(['url','type','Category','domain'],axis=1)\n",
        "labels = df['Category']\n",
        "\n",
        "print(features_df)"
      ],
      "metadata": {
        "colab": {
          "base_uri": "https://localhost:8080/"
        },
        "id": "jfHHcY3FWzLO",
        "outputId": "f3849221-4112-421f-81fe-05b6ca7789ac"
      },
      "execution_count": 74,
      "outputs": [
        {
          "output_type": "stream",
          "name": "stdout",
          "text": [
            "                                                      url        type  \\\n",
            "0                                        br-icloud.com.br    phishing   \n",
            "1                     mp3raid.com/music/krizz_kaliko.html      benign   \n",
            "2                         bopsecrets.org/rexroth/cr/1.htm      benign   \n",
            "3       http://garage-pirenne.be/index.php?option=com_...  defacement   \n",
            "4       http://adventure-nicaragua.net/index.php?optio...  defacement   \n",
            "...                                                   ...         ...   \n",
            "651186            xbox360.ign.com/objects/850/850402.html    phishing   \n",
            "651187       games.teamxbox.com/xbox-360/1860/Dead-Space/    phishing   \n",
            "651188             gamespot.com/xbox360/action/deadspace/    phishing   \n",
            "651189      en.wikipedia.org/wiki/Dead_Space_(video_game)    phishing   \n",
            "651190              angelfire.com/goth/devilmaycrytonite/    phishing   \n",
            "\n",
            "        url_len                   domain  @  ?  -  =  .  #  ...  *  ,  //  \\\n",
            "0            16         br-icloud.com.br  0  0  1  0  2  0  ...  0  0   0   \n",
            "1            35              mp3raid.com  0  0  0  0  2  0  ...  0  0   0   \n",
            "2            31           bopsecrets.org  0  0  0  0  2  0  ...  0  0   0   \n",
            "3            84        garage-pirenne.be  0  1  1  4  2  0  ...  0  0   1   \n",
            "4           235  adventure-nicaragua.net  0  1  1  3  2  0  ...  0  0   1   \n",
            "...         ...                      ... .. .. .. .. .. ..  ... .. ..  ..   \n",
            "651186       39          xbox360.ign.com  0  0  0  0  3  0  ...  0  0   0   \n",
            "651187       44       games.teamxbox.com  0  0  2  0  2  0  ...  0  0   0   \n",
            "651188       38             gamespot.com  0  0  0  0  1  0  ...  0  0   0   \n",
            "651189       45         en.wikipedia.org  0  0  0  0  2  0  ...  0  0   0   \n",
            "651190       37            angelfire.com  0  0  0  0  1  0  ...  0  0   0   \n",
            "\n",
            "        abnormal_url  https  digits  letters  Shortining_Service  \\\n",
            "0                  0      0       0       13                   0   \n",
            "1                  0      0       1       29                   0   \n",
            "2                  0      0       1       25                   0   \n",
            "3                  1      0       7       60                   0   \n",
            "4                  1      0      22      199                   0   \n",
            "...              ...    ...     ...      ...                 ...   \n",
            "651186             0      0      12       21                   0   \n",
            "651187             0      0       7       29                   1   \n",
            "651188             0      0       3       30                   1   \n",
            "651189             0      0       0       36                   0   \n",
            "651190             0      0       0       33                   0   \n",
            "\n",
            "        having_ip_address  Category  \n",
            "0                       0         2  \n",
            "1                       0         0  \n",
            "2                       0         0  \n",
            "3                       0         1  \n",
            "4                       0         1  \n",
            "...                   ...       ...  \n",
            "651186                  0         2  \n",
            "651187                  0         2  \n",
            "651188                  0         2  \n",
            "651189                  0         2  \n",
            "651190                  0         2  \n",
            "\n",
            "[651191 rows x 24 columns]\n",
            "        url_len  @  ?  -  =  .  #  %  +  $  !  *  ,  //  abnormal_url  https  \\\n",
            "0            16  0  0  1  0  2  0  0  0  0  0  0  0   0             0      0   \n",
            "1            35  0  0  0  0  2  0  0  0  0  0  0  0   0             0      0   \n",
            "2            31  0  0  0  0  2  0  0  0  0  0  0  0   0             0      0   \n",
            "3            84  0  1  1  4  2  0  0  0  0  0  0  0   1             1      0   \n",
            "4           235  0  1  1  3  2  0  0  0  0  0  0  0   1             1      0   \n",
            "...         ... .. .. .. .. .. .. .. .. .. .. .. ..  ..           ...    ...   \n",
            "651186       39  0  0  0  0  3  0  0  0  0  0  0  0   0             0      0   \n",
            "651187       44  0  0  2  0  2  0  0  0  0  0  0  0   0             0      0   \n",
            "651188       38  0  0  0  0  1  0  0  0  0  0  0  0   0             0      0   \n",
            "651189       45  0  0  0  0  2  0  0  0  0  0  0  0   0             0      0   \n",
            "651190       37  0  0  0  0  1  0  0  0  0  0  0  0   0             0      0   \n",
            "\n",
            "        digits  letters  Shortining_Service  having_ip_address  \n",
            "0            0       13                   0                  0  \n",
            "1            1       29                   0                  0  \n",
            "2            1       25                   0                  0  \n",
            "3            7       60                   0                  0  \n",
            "4           22      199                   0                  0  \n",
            "...        ...      ...                 ...                ...  \n",
            "651186      12       21                   0                  0  \n",
            "651187       7       29                   1                  0  \n",
            "651188       3       30                   1                  0  \n",
            "651189       0       36                   0                  0  \n",
            "651190       0       33                   0                  0  \n",
            "\n",
            "[651191 rows x 20 columns]\n"
          ]
        }
      ]
    },
    {
      "cell_type": "markdown",
      "source": [
        "Train model (RandomForestClassifier from sklearn)"
      ],
      "metadata": {
        "id": "efyX_m8BPPxj"
      }
    },
    {
      "cell_type": "code",
      "source": [
        "from sklearn.metrics import *\n",
        "from sklearn.model_selection import train_test_split\n",
        "from sklearn.ensemble import RandomForestClassifier\n",
        "\n",
        "X_train, X_test, y_train, y_test = train_test_split(features_df, labels, test_size=0.2, random_state=42)\n",
        "\n",
        "# Check if any cell in X_train is a dictionary\n",
        "print(X_train.applymap(type).eq(dict).any())\n"
      ],
      "metadata": {
        "id": "Y5-RSj2vPCeA",
        "colab": {
          "base_uri": "https://localhost:8080/"
        },
        "outputId": "bcc1e5ef-0232-4199-c3f6-fcaae5791e28"
      },
      "execution_count": 75,
      "outputs": [
        {
          "output_type": "stream",
          "name": "stderr",
          "text": [
            "<ipython-input-75-9e601e901377>:8: FutureWarning: DataFrame.applymap has been deprecated. Use DataFrame.map instead.\n",
            "  print(X_train.applymap(type).eq(dict).any())\n"
          ]
        },
        {
          "output_type": "stream",
          "name": "stdout",
          "text": [
            "url_len               False\n",
            "@                     False\n",
            "?                     False\n",
            "-                     False\n",
            "=                     False\n",
            ".                     False\n",
            "#                     False\n",
            "%                     False\n",
            "+                     False\n",
            "$                     False\n",
            "!                     False\n",
            "*                     False\n",
            ",                     False\n",
            "//                    False\n",
            "abnormal_url          False\n",
            "https                 False\n",
            "digits                False\n",
            "letters               False\n",
            "Shortining_Service    False\n",
            "having_ip_address     False\n",
            "dtype: bool\n"
          ]
        }
      ]
    },
    {
      "cell_type": "markdown",
      "source": [
        "**Run below cell if found any value to be true in above output.**"
      ],
      "metadata": {
        "id": "jxcyyS5lgoE7"
      }
    },
    {
      "cell_type": "code",
      "source": [
        "# Expand the 'features' column which contains dictionaries\n",
        "#features_df = pd.json_normalize(X_train['features'])\n",
        "\n",
        "# Drop the original 'features' column and join the new columns\n",
        "#X_train = X_train.drop(columns=['features']).join(features_df)\n",
        "\n",
        "#print(X_train.applymap(type).eq(dict).any())  # should all be False now\n",
        "\n",
        "#----------for test data -------------\n",
        "# Step 1: Expand the 'features' dict column in X_test\n",
        "#features_test_df = pd.json_normalize(X_test['features'])\n",
        "\n",
        "# Step 2: Drop the original 'features' column and join expanded features\n",
        "#X_test = X_test.drop(columns=['features']).join(features_test_df)\n",
        "\n",
        "# Step 3: Make sure column order matches X_train\n",
        "#X_test = X_test[X_train.columns]\n"
      ],
      "metadata": {
        "id": "xgXwJNNaienv"
      },
      "execution_count": null,
      "outputs": []
    },
    {
      "cell_type": "code",
      "source": [
        "print('######-Model =>\\033[07m {} \\033[0m'.format(RandomForestClassifier))\n",
        "model = RandomForestClassifier()\n",
        "model.fit(X_train, y_train)\n",
        "\n",
        "# Predict\n",
        "predictions = model.predict(X_test)\n",
        "print(\"Accuracy:\", accuracy_score(y_test, predictions))\n",
        "\n",
        "print('\\033[01m              Classification_report \\033[0m')\n",
        "print(classification_report(y_test, predictions))\n",
        "print('\\033[01m             Confusion_matrix \\033[0m')\n",
        "cf_matrix = confusion_matrix(y_test, predictions)\n",
        "plot_ = sns.heatmap(cf_matrix/np.sum(cf_matrix), annot=True,fmt= '0.2%')\n",
        "plt.show()"
      ],
      "metadata": {
        "colab": {
          "base_uri": "https://localhost:8080/",
          "height": 690
        },
        "id": "3545_emjbOM3",
        "outputId": "713094b4-b454-4b26-e4a5-a991e48bf6f4"
      },
      "execution_count": 76,
      "outputs": [
        {
          "output_type": "stream",
          "name": "stdout",
          "text": [
            "######-Model =>\u001b[07m <class 'sklearn.ensemble._forest.RandomForestClassifier'> \u001b[0m\n",
            "Accuracy: 0.9140580010595905\n",
            "\u001b[01m              Classification_report \u001b[0m\n",
            "              precision    recall  f1-score   support\n",
            "\n",
            "           0       0.92      0.98      0.95     85778\n",
            "           1       0.93      0.97      0.95     19104\n",
            "           2       0.83      0.57      0.68     18836\n",
            "           3       0.95      0.91      0.93      6521\n",
            "\n",
            "    accuracy                           0.91    130239\n",
            "   macro avg       0.91      0.86      0.88    130239\n",
            "weighted avg       0.91      0.91      0.91    130239\n",
            "\n",
            "\u001b[01m             Confusion_matrix \u001b[0m\n"
          ]
        },
        {
          "output_type": "display_data",
          "data": {
            "text/plain": [
              "<Figure size 640x480 with 2 Axes>"
            ],
            "image/png": "[encoded data removed]"
          },
          "metadata": {}
        }
      ]
    },
    {
      "cell_type": "markdown",
      "source": [
        "save model"
      ],
      "metadata": {
        "id": "_6W-P11qPfLj"
      }
    },
    {
      "cell_type": "code",
      "source": [
        "import joblib\n",
        "\n",
        "# Save the model\n",
        "joblib.dump(model, 'url_model.joblib')\n",
        "\n",
        "# Save the feature column names (list of feature names used in training)\n",
        "joblib.dump(features_df.columns.tolist(), 'model_features.joblib')\n"
      ],
      "metadata": {
        "id": "rlmhZs1MPChB",
        "colab": {
          "base_uri": "https://localhost:8080/"
        },
        "outputId": "fcf589fc-7ce0-49e7-c590-182649ab11ea"
      },
      "execution_count": 77,
      "outputs": [
        {
          "output_type": "execute_result",
          "data": {
            "text/plain": [
              "['model_features.joblib']"
            ]
          },
          "metadata": {},
          "execution_count": 77
        }
      ]
    }
  ]
}