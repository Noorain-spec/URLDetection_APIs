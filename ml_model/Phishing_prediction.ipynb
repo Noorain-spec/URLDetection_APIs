{
  "nbformat": 4,
  "nbformat_minor": 0,
  "metadata": {
    "colab": {
      "provenance": []
    },
    "kernelspec": {
      "name": "python3",
      "display_name": "Python 3"
    },
    "language_info": {
      "name": "python"
    }
  },
  "cells": [
    {
      "cell_type": "code",
      "source": [
        "!pip install tld"
      ],
      "metadata": {
        "colab": {
          "base_uri": "https://localhost:8080/"
        },
        "id": "mOnWSlsllj5I",
        "outputId": "385f26c3-60f2-4efd-bff7-b6f04b61ed36"
      },
      "execution_count": 2,
      "outputs": [
        {
          "output_type": "stream",
          "name": "stdout",
          "text": [
            "Collecting tld\n",
            "  Downloading tld-0.13.1-py2.py3-none-any.whl.metadata (10 kB)\n",
            "Downloading tld-0.13.1-py2.py3-none-any.whl (274 kB)\n",
            "\u001b[?25l   \u001b[90m━━━━━━━━━━━━━━━━━━━━━━━━━━━━━━━━━━━━━━━━\u001b[0m \u001b[32m0.0/274.7 kB\u001b[0m \u001b[31m?\u001b[0m eta \u001b[36m-:--:--\u001b[0m\r\u001b[2K   \u001b[90m━━━━━━━━━━━━━━━━━━━━━━━━━━━━━━━━━━━━━━━━\u001b[0m \u001b[32m274.7/274.7 kB\u001b[0m \u001b[31m17.1 MB/s\u001b[0m eta \u001b[36m0:00:00\u001b[0m\n",
            "\u001b[?25hInstalling collected packages: tld\n",
            "Successfully installed tld-0.13.1\n"
          ]
        }
      ]
    },
    {
      "cell_type": "code",
      "execution_count": 5,
      "metadata": {
        "colab": {
          "base_uri": "https://localhost:8080/"
        },
        "id": "iAd_Vs0gk8N9",
        "outputId": "0268b5fc-c178-4589-fa4b-70126d112de3"
      },
      "outputs": [
        {
          "output_type": "stream",
          "name": "stdout",
          "text": [
            "Prediction for URL 'https://bit.ly/phishing_test': phishing\n"
          ]
        }
      ],
      "source": [
        "import joblib\n",
        "import pandas as pd\n",
        "import re\n",
        "from urllib.parse import urlparse\n",
        "from tld import get_tld\n",
        "\n",
        "# Load the saved model and feature names\n",
        "model = joblib.load('/content/url_model.joblib')\n",
        "model_features = joblib.load('/content/model_features.joblib')\n",
        "\n",
        "# Define all feature extraction functions you used before\n",
        "def process_tld(url):\n",
        "    try:\n",
        "        res = get_tld(url, as_object=True, fail_silently=False, fix_protocol=True)\n",
        "        return res.parsed_url.netloc\n",
        "    except:\n",
        "        return None\n",
        "\n",
        "def abnormal_url(url):\n",
        "    hostname = urlparse(url).hostname\n",
        "    hostname = str(hostname)\n",
        "    return 1 if re.search(hostname, url) else 0\n",
        "\n",
        "def httpSecure(url):\n",
        "    return 1 if urlparse(url).scheme == 'https' else 0\n",
        "\n",
        "def digit_count(url):\n",
        "    return sum(c.isdigit() for c in url)\n",
        "\n",
        "def letter_count(url):\n",
        "    return sum(c.isalpha() for c in url)\n",
        "\n",
        "def Shortining_Service(url):\n",
        "    match = re.search(r'bit\\.ly|goo\\.gl|tinyurl|ow\\.ly|t\\.co', url)  # Add all patterns you had\n",
        "    return 1 if match else 0\n",
        "\n",
        "def having_ip_address(url):\n",
        "    match = re.search(r'(([0-9]{1,3}\\.){3}[0-9]{1,3})', url)\n",
        "    return 1 if match else 0\n",
        "\n",
        "# Extract features from a single new URL (must match model features exactly)\n",
        "def extract_features(url):\n",
        "    url = re.sub(r'www\\.', '', url)  # remove www.\n",
        "    data = {\n",
        "        'url_len': len(url),\n",
        "        '@': url.count('@'),\n",
        "        '?': url.count('?'),\n",
        "        '-': url.count('-'),\n",
        "        '=': url.count('='),\n",
        "        '.': url.count('.'),\n",
        "        '#': url.count('#'),\n",
        "        '%': url.count('%'),\n",
        "        '+': url.count('+'),\n",
        "        '$': url.count('$'),\n",
        "        '!': url.count('!'),\n",
        "        '*': url.count('*'),\n",
        "        ',': url.count(','),\n",
        "        '//': url.count('//'),\n",
        "        'abnormal_url': abnormal_url(url),\n",
        "        'https': httpSecure(url),\n",
        "        'digits': digit_count(url),\n",
        "        'letters': letter_count(url),\n",
        "        'Shortining_Service': Shortining_Service(url),\n",
        "        'having_ip_address': having_ip_address(url)\n",
        "    }\n",
        "    df = pd.DataFrame([data])\n",
        "\n",
        "    # Make sure all columns exist and in the right order\n",
        "    for col in model_features:\n",
        "        if col not in df.columns:\n",
        "            df[col] = 0\n",
        "    df = df[model_features]\n",
        "    return df\n",
        "\n",
        "# Example new URL\n",
        "new_url = \"https://bit.ly/phishing_test\"\n",
        "\n",
        "# Prepare feature vector\n",
        "X_new = extract_features(new_url)\n",
        "\n",
        "# Predict using the loaded model\n",
        "prediction = model.predict(X_new)[0]\n",
        "\n",
        "# Map your numeric label back to text\n",
        "labels = {0: \"benign\", 1: \"defacement\", 2: \"phishing\", 3: \"malware\"}\n",
        "\n",
        "print(f\"Prediction for URL '{new_url}': {labels[prediction]}\")\n"
      ]
    },
    {
      "cell_type": "code",
      "source": [
        "test_urls = [\n",
        "    \"http://example.com\",                            # benign\n",
        "    \"https://www.google.com\",                        # benign, secure https\n",
        "    \"http://bit.ly/abc123\",                          # shortened URL, possibly malicious\n",
        "    \"http://192.168.1.1/login\",                      # URL with IP address\n",
        "    \"https://secure-login-paypal.com.verify-info.xyz\",  # suspicious phishing style URL\n",
        "    \"http://free-money-now.com/?click=true\",        # potentially phishing\n",
        "    \"https://tinyurl.com/xyz789\",                    # shortened URL\n",
        "    \"http://bank-secure-update.com/login?user=abc\", # suspicious phishing URL\n",
        "    \"https://github.com\",                            # benign\n",
        "    \"http://malicious-site.com/malware.exe\",        # possible malware URL\n",
        "]\n"
      ],
      "metadata": {
        "id": "CPf24eBqnQvo"
      },
      "execution_count": 6,
      "outputs": []
    },
    {
      "cell_type": "code",
      "source": [
        "for url in test_urls:\n",
        "    features = extract_features(url)\n",
        "    pred = model.predict(features)[0]\n",
        "    print(f\"URL: {url}\\nPrediction: {labels[pred]}\\n\")"
      ],
      "metadata": {
        "colab": {
          "base_uri": "https://localhost:8080/"
        },
        "id": "z_TCWT-znS6W",
        "outputId": "5af66f6a-1ddf-41c7-8b5b-929685baeb00"
      },
      "execution_count": 7,
      "outputs": [
        {
          "output_type": "stream",
          "name": "stdout",
          "text": [
            "URL: http://example.com\n",
            "Prediction: phishing\n",
            "\n",
            "URL: https://www.google.com\n",
            "Prediction: phishing\n",
            "\n",
            "URL: http://bit.ly/abc123\n",
            "Prediction: phishing\n",
            "\n",
            "URL: http://192.168.1.1/login\n",
            "Prediction: malware\n",
            "\n",
            "URL: https://secure-login-paypal.com.verify-info.xyz\n",
            "Prediction: phishing\n",
            "\n",
            "URL: http://free-money-now.com/?click=true\n",
            "Prediction: defacement\n",
            "\n",
            "URL: https://tinyurl.com/xyz789\n",
            "Prediction: phishing\n",
            "\n",
            "URL: http://bank-secure-update.com/login?user=abc\n",
            "Prediction: defacement\n",
            "\n",
            "URL: https://github.com\n",
            "Prediction: phishing\n",
            "\n",
            "URL: http://malicious-site.com/malware.exe\n",
            "Prediction: defacement\n",
            "\n"
          ]
        }
      ]
    }
  ]
}